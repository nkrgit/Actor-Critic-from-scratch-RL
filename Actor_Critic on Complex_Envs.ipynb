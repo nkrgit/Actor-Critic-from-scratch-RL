{
  "cells": [
    {
      "cell_type": "markdown",
      "metadata": {
        "id": "HOf2cviPahgc"
      },
      "source": [
        "#Libraries"
      ]
    },
    {
      "cell_type": "code",
      "execution_count": null,
      "metadata": {
        "id": "FaeS1IbFajxb"
      },
      "outputs": [],
      "source": [
        "import gym\n",
        "from gym import wrappers\n",
        "from gym import spaces\n",
        "from google.colab import widgets\n",
        "\n",
        "import timeit\n",
        "import numpy as np\n",
        "import matplotlib.pyplot as plt\n",
        "import pandas as pd\n",
        "import random\n",
        "\n",
        "import tensorflow as tf\n",
        "from tensorflow.keras import backend as K\n",
        "from tensorflow.keras.layers import Dense, Activation, Input\n",
        "from tensorflow.keras.models import Model, load_model\n",
        "from tensorflow.keras.optimizers import Adam, SGD\n",
        "from tensorflow.python.framework.ops import disable_eager_execution\n",
        "from tensorflow.keras.utils import to_categorical\n",
        "from tensorflow.keras import regularizers\n",
        "disable_eager_execution()\n",
        "import warnings\n",
        "warnings.filterwarnings(\"ignore\")"
      ]
    },
    {
      "cell_type": "code",
      "execution_count": null,
      "metadata": {
        "id": "PlgSA58mfQ6m"
      },
      "outputs": [],
      "source": [
        ""
      ]
    },
    {
      "cell_type": "markdown",
      "metadata": {
        "id": "yT6arcKBx0uq"
      },
      "source": [
        "#Grid World Env"
      ]
    },
    {
      "cell_type": "code",
      "execution_count": null,
      "metadata": {
        "id": "i9dtly0fx37t"
      },
      "outputs": [],
      "source": [
        "\n",
        "class GridEnvironment(gym.Env):\n",
        "    metadata = { 'render.modes': [] }\n",
        "    \n",
        "    def __init__(self):\n",
        "        self.observation_space = spaces.Discrete(16) #Intializing a 4x4 grid with 16 states: {s1, s2, s3,....s16}\n",
        "        self.action_space = spaces.Discrete(4) #Intializing 4 actions:  {0: down, 1: up, 2: right, 3: left}\n",
        "        self.done = False\n",
        "        #rewards = {-2, -1, 0, 1, 2, 150} defined below\n",
        "        \n",
        "    def reset(self):\n",
        "  \n",
        "        self.agent_pos = [0, 0] #start position\n",
        "        self.goal_pos = [3, 3] #target position (+150)\n",
        "        self.danger1_pos = [1,1] #first danger position (-1)\n",
        "        self.danger2_pos = [2,2] #second danger position (-2)\n",
        "        self.gold1_pos = [2,0] #First positive reward position (+1)\n",
        "        self.gold2_pos = [3,0] #Second positive reward position (+2)\n",
        "        self.done = False\n",
        "        self.state = np.zeros((4,4))\n",
        "        observation = self.state.flatten()\n",
        "        return observation\n",
        "    \n",
        "    def step(self, action, deterministic = False, stochastic = False):\n",
        "\n",
        "        #determinstic environment\n",
        "        if deterministic == True:\n",
        "          epsilon1, epsilon2 = 1, 1 #With probability 1 Agent chooses given action\n",
        "\n",
        "        #stochastic environment\n",
        "        if stochastic == True:\n",
        "          epsilon1, epsilon2 = 0.7, 0.8 #Transistion probabilites of 0.7 and 0.8 \n",
        "          #Σ(p(s', r/s, down) = 0.7 + 0.3 = 1\n",
        "          #Σ(p(s', r/s, right) = 0.8 + 0.2 = 1 \n",
        "\n",
        "        #Actions\n",
        "        if action == 0: #down\n",
        "            rand_num1 = np.random.random()\n",
        "            if epsilon1 >= rand_num1:  \n",
        "              self.agent_pos[0] += 1   \n",
        "            else: #For all states in stochastic environment when Down action is choosen: Agent chooses down state with a transition probability of 0.7 and up state with 0.3 transition probaility\n",
        "              self.agent_pos[0] -= 1\n",
        "              # print(\"Up state is choosen with 0.3 probability instead of Down\")\n",
        "\n",
        "        if action == 1: #up\n",
        "            self.agent_pos[0] -= 1\n",
        "\n",
        "        if action == 2: #right\n",
        "            rand_num2 = np.random.random()\n",
        "            if epsilon2 >= rand_num2:  \n",
        "              self.agent_pos[1] += 1        \n",
        "            else:#For all states in stochastic environment when Right action is choosen: Agent chooses right state with a transition probability of 0.8 and left state with 0.2 transition probaility\n",
        "              self.agent_pos[1] -= 1\n",
        "              # print(\"Left state is choosen with 0.2 probability instead of Right\")\n",
        "\n",
        "        if action == 3: #left\n",
        "            self.agent_pos[1] -= 1\n",
        "          \n",
        "        self.agent_pos = np.clip(self.agent_pos, 0, 3) #ensuring agent doesn't go out of the grid #One of the ways to ensure safety in the environment\n",
        "        self.state = np.zeros((4,4))\n",
        "\n",
        "        observation = self.state.flatten()\n",
        "        \n",
        "        reward = 0 #Intializing reward to zero\n",
        "\n",
        "        #Rewards structure\n",
        "        if (self.agent_pos == self.goal_pos).all():\n",
        "            reward = 150 #A reward of 150 if it reaches target position\n",
        "            self.done = True\n",
        "\n",
        "        elif (self.agent_pos == self.danger1_pos).all():\n",
        "            reward = -1 #A negative reward -1 if it enters 1st danger position\n",
        "\n",
        "        elif (self.agent_pos == self.danger2_pos).all():\n",
        "            reward = -2 #A negative reward of -2 if it enters 2nd danger position\n",
        "\n",
        "        elif (self.agent_pos == self.gold1_pos).all():\n",
        "            reward = 1 #A reward of +1 at [2,0]\n",
        "\n",
        "        elif (self.agent_pos == self.gold2_pos).all():\n",
        "            reward = 2 #A reward of +2 at [3,0]\n",
        "\n",
        "        return self.agent_pos, reward, self.done\n",
        "        \n",
        "    def render(self):\n",
        "        plt.imshow(self.state)"
      ]
    },
    {
      "cell_type": "code",
      "execution_count": null,
      "metadata": {
        "colab": {
          "base_uri": "https://localhost:8080/"
        },
        "id": "M-BmaphbyFde",
        "outputId": "a57520ac-9c0b-4292-b718-e86fce3c53ff"
      },
      "outputs": [
        {
          "name": "stdout",
          "output_type": "stream",
          "text": [
            "Grid Environment\n",
            "\n"
          ]
        },
        {
          "data": {
            "text/html": [
              "<style>\n",
              "       table#id10, #id10 > tbody > tr > th, #id10 > tbody > tr > td {\n",
              "         border: 1px solid lightgray;\n",
              "         border-collapse:collapse;\n",
              "         background-color: black; font-size: 25px; color: white\n",
              "        }</style>"
            ],
            "text/plain": [
              "<IPython.core.display.HTML object>"
            ]
          },
          "metadata": {},
          "output_type": "display_data"
        },
        {
          "data": {
            "text/html": [
              "<table id=id10><tr><th id=id10-0-0></th><th id=id10-0-1></th><th id=id10-0-2></th><th id=id10-0-3></th></tr><tr><th id=id10-1-0></th><td id=id10-1-1></td><td id=id10-1-2></td><td id=id10-1-3></td></tr><tr><th id=id10-2-0></th><td id=id10-2-1></td><td id=id10-2-2></td><td id=id10-2-3></td></tr><tr><th id=id10-3-0></th><td id=id10-3-1></td><td id=id10-3-2></td><td id=id10-3-3></td></tr></table>"
            ],
            "text/plain": [
              "<IPython.core.display.HTML object>"
            ]
          },
          "metadata": {},
          "output_type": "display_data"
        },
        {
          "name": "stdout",
          "output_type": "stream",
          "text": [
            "\n",
            "\n"
          ]
        },
        {
          "data": {
            "application/javascript": [
              "window[\"6d4c756c-c998-11ec-9172-0242ac1c0002\"] = google.colab.output.getActiveOutputArea();\n",
              "//# sourceURL=js_94eeda9cbd"
            ],
            "text/plain": [
              "<IPython.core.display.Javascript object>"
            ]
          },
          "metadata": {},
          "output_type": "display_data"
        },
        {
          "data": {
            "application/javascript": [
              "window[\"6d4cfcda-c998-11ec-9172-0242ac1c0002\"] = document.querySelector(\"#id10-0-0\");\n",
              "//# sourceURL=js_781348a3b7"
            ],
            "text/plain": [
              "<IPython.core.display.Javascript object>"
            ]
          },
          "metadata": {},
          "output_type": "display_data"
        },
        {
          "data": {
            "application/javascript": [
              "window[\"6d4d57f2-c998-11ec-9172-0242ac1c0002\"] = google.colab.output.setActiveOutputArea(window[\"6d4cfcda-c998-11ec-9172-0242ac1c0002\"]);\n",
              "//# sourceURL=js_7ab39ac7be"
            ],
            "text/plain": [
              "<IPython.core.display.Javascript object>"
            ]
          },
          "metadata": {},
          "output_type": "display_data"
        },
        {
          "name": "stdout",
          "output_type": "stream",
          "text": [
            "Start\n"
          ]
        },
        {
          "data": {
            "application/javascript": [
              "window[\"6d4ec13c-c998-11ec-9172-0242ac1c0002\"] = google.colab.output.setActiveOutputArea(window[\"6d4c756c-c998-11ec-9172-0242ac1c0002\"]);\n",
              "//# sourceURL=js_3256a9ab8e"
            ],
            "text/plain": [
              "<IPython.core.display.Javascript object>"
            ]
          },
          "metadata": {},
          "output_type": "display_data"
        },
        {
          "data": {
            "application/javascript": [
              "window[\"6d50dbde-c998-11ec-9172-0242ac1c0002\"] = google.colab.output.getActiveOutputArea();\n",
              "//# sourceURL=js_30f031d8e4"
            ],
            "text/plain": [
              "<IPython.core.display.Javascript object>"
            ]
          },
          "metadata": {},
          "output_type": "display_data"
        },
        {
          "data": {
            "application/javascript": [
              "window[\"6d5133d6-c998-11ec-9172-0242ac1c0002\"] = document.querySelector(\"#id10-3-3\");\n",
              "//# sourceURL=js_162fee6e7c"
            ],
            "text/plain": [
              "<IPython.core.display.Javascript object>"
            ]
          },
          "metadata": {},
          "output_type": "display_data"
        },
        {
          "data": {
            "application/javascript": [
              "window[\"6d51896c-c998-11ec-9172-0242ac1c0002\"] = google.colab.output.setActiveOutputArea(window[\"6d5133d6-c998-11ec-9172-0242ac1c0002\"]);\n",
              "//# sourceURL=js_9a5955cb15"
            ],
            "text/plain": [
              "<IPython.core.display.Javascript object>"
            ]
          },
          "metadata": {},
          "output_type": "display_data"
        },
        {
          "name": "stdout",
          "output_type": "stream",
          "text": [
            "Target\n"
          ]
        },
        {
          "data": {
            "application/javascript": [
              "window[\"6d52dfba-c998-11ec-9172-0242ac1c0002\"] = google.colab.output.setActiveOutputArea(window[\"6d50dbde-c998-11ec-9172-0242ac1c0002\"]);\n",
              "//# sourceURL=js_9514174c88"
            ],
            "text/plain": [
              "<IPython.core.display.Javascript object>"
            ]
          },
          "metadata": {},
          "output_type": "display_data"
        },
        {
          "data": {
            "application/javascript": [
              "window[\"6d54e6a2-c998-11ec-9172-0242ac1c0002\"] = google.colab.output.getActiveOutputArea();\n",
              "//# sourceURL=js_f54e45202c"
            ],
            "text/plain": [
              "<IPython.core.display.Javascript object>"
            ]
          },
          "metadata": {},
          "output_type": "display_data"
        },
        {
          "data": {
            "application/javascript": [
              "window[\"6d555f42-c998-11ec-9172-0242ac1c0002\"] = document.querySelector(\"#id10-1-1\");\n",
              "//# sourceURL=js_d9579af2fd"
            ],
            "text/plain": [
              "<IPython.core.display.Javascript object>"
            ]
          },
          "metadata": {},
          "output_type": "display_data"
        },
        {
          "data": {
            "application/javascript": [
              "window[\"6d562ecc-c998-11ec-9172-0242ac1c0002\"] = google.colab.output.setActiveOutputArea(window[\"6d555f42-c998-11ec-9172-0242ac1c0002\"]);\n",
              "//# sourceURL=js_b56439c011"
            ],
            "text/plain": [
              "<IPython.core.display.Javascript object>"
            ]
          },
          "metadata": {},
          "output_type": "display_data"
        },
        {
          "name": "stdout",
          "output_type": "stream",
          "text": [
            "-1\n"
          ]
        },
        {
          "data": {
            "application/javascript": [
              "window[\"6d57f838-c998-11ec-9172-0242ac1c0002\"] = google.colab.output.setActiveOutputArea(window[\"6d54e6a2-c998-11ec-9172-0242ac1c0002\"]);\n",
              "//# sourceURL=js_e1711b50ff"
            ],
            "text/plain": [
              "<IPython.core.display.Javascript object>"
            ]
          },
          "metadata": {},
          "output_type": "display_data"
        },
        {
          "data": {
            "application/javascript": [
              "window[\"6d59cef6-c998-11ec-9172-0242ac1c0002\"] = google.colab.output.getActiveOutputArea();\n",
              "//# sourceURL=js_4700bc1089"
            ],
            "text/plain": [
              "<IPython.core.display.Javascript object>"
            ]
          },
          "metadata": {},
          "output_type": "display_data"
        },
        {
          "data": {
            "application/javascript": [
              "window[\"6d5a2126-c998-11ec-9172-0242ac1c0002\"] = document.querySelector(\"#id10-2-2\");\n",
              "//# sourceURL=js_8fceb224f4"
            ],
            "text/plain": [
              "<IPython.core.display.Javascript object>"
            ]
          },
          "metadata": {},
          "output_type": "display_data"
        },
        {
          "data": {
            "application/javascript": [
              "window[\"6d5a7054-c998-11ec-9172-0242ac1c0002\"] = google.colab.output.setActiveOutputArea(window[\"6d5a2126-c998-11ec-9172-0242ac1c0002\"]);\n",
              "//# sourceURL=js_74528a0366"
            ],
            "text/plain": [
              "<IPython.core.display.Javascript object>"
            ]
          },
          "metadata": {},
          "output_type": "display_data"
        },
        {
          "name": "stdout",
          "output_type": "stream",
          "text": [
            "-2\n"
          ]
        },
        {
          "data": {
            "application/javascript": [
              "window[\"6d5b9ec0-c998-11ec-9172-0242ac1c0002\"] = google.colab.output.setActiveOutputArea(window[\"6d59cef6-c998-11ec-9172-0242ac1c0002\"]);\n",
              "//# sourceURL=js_2307a418a4"
            ],
            "text/plain": [
              "<IPython.core.display.Javascript object>"
            ]
          },
          "metadata": {},
          "output_type": "display_data"
        },
        {
          "data": {
            "application/javascript": [
              "window[\"6d5de84c-c998-11ec-9172-0242ac1c0002\"] = google.colab.output.getActiveOutputArea();\n",
              "//# sourceURL=js_2e7f4fafc6"
            ],
            "text/plain": [
              "<IPython.core.display.Javascript object>"
            ]
          },
          "metadata": {},
          "output_type": "display_data"
        },
        {
          "data": {
            "application/javascript": [
              "window[\"6d5e4918-c998-11ec-9172-0242ac1c0002\"] = document.querySelector(\"#id10-2-0\");\n",
              "//# sourceURL=js_3c857e705b"
            ],
            "text/plain": [
              "<IPython.core.display.Javascript object>"
            ]
          },
          "metadata": {},
          "output_type": "display_data"
        },
        {
          "data": {
            "application/javascript": [
              "window[\"6d5e9fc6-c998-11ec-9172-0242ac1c0002\"] = google.colab.output.setActiveOutputArea(window[\"6d5e4918-c998-11ec-9172-0242ac1c0002\"]);\n",
              "//# sourceURL=js_1acd2c651c"
            ],
            "text/plain": [
              "<IPython.core.display.Javascript object>"
            ]
          },
          "metadata": {},
          "output_type": "display_data"
        },
        {
          "name": "stdout",
          "output_type": "stream",
          "text": [
            "+1\n"
          ]
        },
        {
          "data": {
            "application/javascript": [
              "window[\"6d5fc856-c998-11ec-9172-0242ac1c0002\"] = google.colab.output.setActiveOutputArea(window[\"6d5de84c-c998-11ec-9172-0242ac1c0002\"]);\n",
              "//# sourceURL=js_ec6a9ab3a8"
            ],
            "text/plain": [
              "<IPython.core.display.Javascript object>"
            ]
          },
          "metadata": {},
          "output_type": "display_data"
        },
        {
          "data": {
            "application/javascript": [
              "window[\"6d619c76-c998-11ec-9172-0242ac1c0002\"] = google.colab.output.getActiveOutputArea();\n",
              "//# sourceURL=js_514fcfea41"
            ],
            "text/plain": [
              "<IPython.core.display.Javascript object>"
            ]
          },
          "metadata": {},
          "output_type": "display_data"
        },
        {
          "data": {
            "application/javascript": [
              "window[\"6d61ea78-c998-11ec-9172-0242ac1c0002\"] = document.querySelector(\"#id10-3-0\");\n",
              "//# sourceURL=js_d8e260ccbc"
            ],
            "text/plain": [
              "<IPython.core.display.Javascript object>"
            ]
          },
          "metadata": {},
          "output_type": "display_data"
        },
        {
          "data": {
            "application/javascript": [
              "window[\"6d622dbc-c998-11ec-9172-0242ac1c0002\"] = google.colab.output.setActiveOutputArea(window[\"6d61ea78-c998-11ec-9172-0242ac1c0002\"]);\n",
              "//# sourceURL=js_87aa08e980"
            ],
            "text/plain": [
              "<IPython.core.display.Javascript object>"
            ]
          },
          "metadata": {},
          "output_type": "display_data"
        },
        {
          "name": "stdout",
          "output_type": "stream",
          "text": [
            "+2\n"
          ]
        },
        {
          "data": {
            "application/javascript": [
              "window[\"6d63562e-c998-11ec-9172-0242ac1c0002\"] = google.colab.output.setActiveOutputArea(window[\"6d619c76-c998-11ec-9172-0242ac1c0002\"]);\n",
              "//# sourceURL=js_165e15926d"
            ],
            "text/plain": [
              "<IPython.core.display.Javascript object>"
            ]
          },
          "metadata": {},
          "output_type": "display_data"
        }
      ],
      "source": [
        "env = GridEnvironment()\n",
        "obs = env.reset()#resets the environment to its initial configuration\n",
        "\n",
        "#Displays grid in its intial configuration\n",
        "print(\"Grid Environment\\n\")\n",
        "output_grid2 = widgets.Grid(4, 4, header_row=True, header_column=True,  style='background-color: black; font-size: 25px; color: white')\n",
        "print(\"\\n\")\n",
        "with output_grid2.output_to(0, 0):\n",
        "    print(\"Start\")\n",
        "with output_grid2.output_to(3, 3):\n",
        "    print(\"Target\")\n",
        "with output_grid2.output_to(1, 1):\n",
        "    print(\"-1\")\n",
        "with output_grid2.output_to(2, 2):\n",
        "    print(\"-2\")\n",
        "with output_grid2.output_to(2, 0):\n",
        "    print(\"+1\")\n",
        "with output_grid2.output_to(3, 0):\n",
        "    print(\"+2\")"
      ]
    },
    {
      "cell_type": "markdown",
      "metadata": {
        "id": "MA2rdM9VZx4Z"
      },
      "source": [
        "#Part I"
      ]
    },
    {
      "cell_type": "markdown",
      "metadata": {
        "id": "oeAWD1PXbcAW"
      },
      "source": [
        "##Actor-Critic (TD) on Grid world"
      ]
    },
    {
      "cell_type": "code",
      "execution_count": null,
      "metadata": {
        "id": "gEo0pphQZzOl"
      },
      "outputs": [],
      "source": [
        "#Agent declaration\n",
        "class Actor_Critic_Agent():\n",
        "    def __init__(self, alpha, beta, gamma=0.99, n_actions=4):\n",
        "        self.alpha = alpha\n",
        "        self.beta = beta\n",
        "        self.gamma = gamma\n",
        "        self.n_actions = n_actions\n",
        "\n",
        "        self.actor_model, self.critic_model, self.policy_model = self.actor_critic_model()\n",
        "        self.action_space = [i for i in range(n_actions)]\n",
        "\n",
        "    def actor_critic_model(self):\n",
        "        input = Input(shape=(16,))\n",
        "        TD_error = Input(shape=[1])\n",
        "        hidden_d1 = Dense(1024, activation='relu')(input)\n",
        "        hidden_d2 = Dense(512, activation='relu')(hidden_d1)\n",
        "        values = Dense(1, activation='linear')(hidden_d2) #for critic model\n",
        "        probs = Dense(self.n_actions, activation='softmax')(hidden_d2) #output of a actor model, policy model\n",
        "\n",
        "        def actor_loss(y_t, y_p):\n",
        "            return K.sum(- y_t * K.log(K.clip(y_p, 1E-8, 1-1E-8)) * TD_error)\n",
        "\n",
        "        # Defining an Actor model\n",
        "        actor_model = Model([input, TD_error], [probs])\n",
        "        actor_optimizer = Adam(lr=self.alpha)\n",
        "        actor_model.compile(optimizer=actor_optimizer, loss=actor_loss)\n",
        "\n",
        "        # Defining a critic model\n",
        "        critic_model = Model([input], [values])\n",
        "        critic_optimizer = Adam(lr=self.beta)        \n",
        "        critic_model.compile(optimizer= critic_optimizer, loss='mse')\n",
        "\n",
        "        # Defining an additional policy network\n",
        "        policy_model = Model([input], [probs])\n",
        "\n",
        "        return actor_model, critic_model, policy_model\n",
        "\n",
        "    def pick_action(self, state, evaluation = False):\n",
        "        state = np.expand_dims(state, axis=0)\n",
        "        probabilities = self.policy_model.predict(state)[0]\n",
        "        if evaluation == False:\n",
        "            action = np.random.choice(self.action_space, p=probabilities)\n",
        "        else:\n",
        "            action = np.argmax(probabilities)\n",
        "        return action\n",
        "\n",
        "    def train(self, state, action, reward, next_state, done):\n",
        "        # use expand dims to add a dimension to a numpy arra\n",
        "        state = np.expand_dims(state, axis=0)\n",
        "        next_state = np.expand_dims(next_state, axis=0)\n",
        "\n",
        "        # get the target values\n",
        "        next_critic_value = self.critic_model.predict(next_state)\n",
        "        critic_value = self.critic_model.predict(state)\n",
        "\n",
        "        # Getting TD error values to feed into the actor model\n",
        "        target = reward + self.gamma*next_critic_value*(1-int(done))\n",
        "        TD_error =  target - critic_value\n",
        "\n",
        "        actions = np.zeros((1, self.n_actions))\n",
        "        actions[[0], action] = 1\n",
        "\n",
        "        #fitting actor and critic models\n",
        "        self.actor_model.fit([state, TD_error], actions, verbose=0)\n",
        "        self.critic_model.fit(state, target, verbose=0)"
      ]
    },
    {
      "cell_type": "code",
      "execution_count": null,
      "metadata": {
        "id": "oDy2uAnhupUV",
        "outputId": "92b15328-59a4-4335-fdf2-133e899e1c5a"
      },
      "outputs": [
        {
          "name": "stdout",
          "output_type": "stream",
          "text": [
            "Episode: 1, Average rewards: 0\n",
            "Episode: 500, Average rewards: 268.5\n",
            "Episode: 1000, Average rewards: 267.8\n",
            "Episode: 1500, Average rewards: 268.9\n",
            "Episode: 2000, Average rewards: 269.4\n",
            "Episode: 2500, Average rewards: 269.8\n",
            "Episode: 3000, Average rewards: 270.0\n",
            "Episode: 3500, Average rewards: 271.6\n",
            "Episode: 4000, Average rewards: 272.6\n",
            "Episode: 4500, Average rewards: 271.4\n",
            "Optimal Path: \n",
            "1 -> 5 -> 9 -> 13 -> 14 -> 15 -> 16 -> Episode: 5000, Average rewards: 273.0\n"
          ]
        },
        {
          "data": {
            "text/plain": [
              "Text(0.5, 1.0, 'Evaluation: Rewards per episode')"
            ]
          },
          "execution_count": 7,
          "metadata": {},
          "output_type": "execute_result"
        },
        {
          "data": {
            "image/png": "[encoded data removed]",
            "text/plain": [
              "<Figure size 720x288 with 2 Axes>"
            ]
          },
          "metadata": {},
          "output_type": "display_data"
        }
      ],
      "source": [
        "#TD Actor critic on grid world\n",
        "states = {(0,0): 0, (0,1): 1, (0,2): 2, (0,3): 3,\n",
        "                (1,0): 4, (1,1): 5, (1,2): 6, (1,3): 7,\n",
        "                (2,0): 8, (2,1): 9, (2,2): 10, (2,3): 11,\n",
        "                (3,0): 12, (3,1): 13, (3,2): 14, (3,3): 15} #16 states\n",
        "\n",
        "#Agent and environment intialization\n",
        "agent = Actor_Critic_Agent(alpha=0.00001, beta=0.00005)\n",
        "env = GridEnvironment()\n",
        "\n",
        "#episodes\n",
        "total_episodes = 5000\n",
        "eval_episodes = total_episodes - 10\n",
        "\n",
        "#lists to store rewards\n",
        "reward_values = []\n",
        "rewards = []\n",
        "eva_rewards = []\n",
        "avg_rewards = 0\n",
        "\n",
        "#final path\n",
        "optimal = [1]\n",
        "target = np.array([3,3])\n",
        "\n",
        "\n",
        "#Looping over the episodes\n",
        "for episode in range(1, total_episodes+1):\n",
        "    \n",
        "    done = False\n",
        "    current = np.array([0,0])\n",
        "    total_rewards = 0\n",
        "    timesteps = 0\n",
        "    state = env.reset()\n",
        "    \n",
        "    while timesteps < 10 and not done:\n",
        "        \n",
        "        if episode >= eval_episodes:\n",
        "            action = agent.pick_action(state, evaluation = True)\n",
        "        else:\n",
        "            action = agent.pick_action(state)\n",
        "            \n",
        "        next_state_pos, reward, done = env.step(action, deterministic=True)\n",
        "        next_state = states[tuple(next_state_pos)]\n",
        "        \n",
        "        \n",
        "        #for evaluation results\n",
        "        if episode == total_episodes - 1:\n",
        "          optimal.append(next_state + 1)\n",
        "\n",
        "         \n",
        "        #Running rewards\n",
        "        if reward == 150: #if agent reaches goal\n",
        "          reward += 100\n",
        "        \n",
        "        if np.linalg.norm(current - np.array(next_state_pos)) < 0.5: #if agent stays in same position\n",
        "          reward = reward - 10  \n",
        "        current = np.array(next_state_pos)\n",
        "        \n",
        "        if np.linalg.norm(target - np.array(next_state_pos)) <= 1: #if agent is in vicinity of goal position\n",
        "          reward = reward + 10 \n",
        "        \n",
        "        #Training\n",
        "        next_state = to_categorical(next_state, 16)\n",
        "        agent.train(state, action, reward, next_state, done)\n",
        "        state = next_state \n",
        "        total_rewards += reward\n",
        "        timesteps += 1\n",
        "\n",
        "    #Each episode\n",
        "    rewards.append(total_rewards)\n",
        "    \n",
        "    if episode >= 10:\n",
        "      avg_rewards = np.sum(rewards[episode-10:]) / 10\n",
        "    \n",
        "    reward_values.append(avg_rewards)\n",
        "\n",
        "    if episode % (total_episodes // 10) == 0 or episode == 1:\n",
        "      print(\"Episode: {}, Average rewards: {}\".format(episode, avg_rewards))\n",
        "    \n",
        "    #Evaluation\n",
        "    if episode > eval_episodes:\n",
        "      eva_rewards.append(total_rewards)\n",
        "    \n",
        "    #printing optimal path in last episode\n",
        "    if episode == total_episodes - 1:\n",
        "          print(\"Optimal Path: \")\n",
        "          for i in optimal:\n",
        "            print(i,\"->\", end = \" \")\n",
        "          \n",
        "\n",
        "#plots\n",
        "fig, (ax1, ax2) = plt.subplots(1, 2, figsize=(10,4))\n",
        "x = [episode for episode in range(total_episodes)]\n",
        "x_eva = [episode for episode in range(10)]\n",
        "yr = reward_values\n",
        "ye = eva_rewards\n",
        "  \n",
        "ax1.plot(x,yr)\n",
        "ax1.set_title(\"Training: Rewards per episode\")\n",
        "\n",
        "ax2.plot(x_eva,ye)\n",
        "ax2.set_title(\"Evaluation: Rewards per episode\")"
      ]
    },
    {
      "cell_type": "markdown",
      "metadata": {
        "id": "HXaHLm3L4-t4"
      },
      "source": [
        "#Part II"
      ]
    },
    {
      "cell_type": "markdown",
      "metadata": {
        "id": "elOKkQK9bNdV"
      },
      "source": [
        "##1. Lunar Lander-v2"
      ]
    },
    {
      "cell_type": "code",
      "execution_count": null,
      "metadata": {
        "id": "fKv9grVIEOtp"
      },
      "outputs": [],
      "source": [
        "# !pip3 install Box2D\n",
        "# !pip3 install box2d-py\n",
        "# !pip3 install gym[all]\n",
        "# !pip3 install gym[Box_2D]\n",
        "# !sudo apt-get install swig"
      ]
    },
    {
      "cell_type": "code",
      "execution_count": null,
      "metadata": {
        "id": "6fLpQMuoDIpI"
      },
      "outputs": [],
      "source": [
        "#Agent declaration\n",
        "class AC_Lunarlander_Agent():\n",
        "    def __init__(self, alpha, beta, gamma=0.99, n_actions=4):\n",
        "        self.alpha = alpha\n",
        "        self.beta = beta\n",
        "        self.gamma = gamma\n",
        "        self.n_actions = n_actions\n",
        "\n",
        "        self.actor_model, self.critic_model, self.policy_model = self.actor_critic_model()\n",
        "        self.action_space = [i for i in range(n_actions)]\n",
        "\n",
        "    def actor_critic_model(self):\n",
        "        input = Input(shape=(8,))\n",
        "        TD_error = Input(shape=[1])\n",
        "        hidden_d1 = Dense(1024, activation='relu')(input)\n",
        "        hidden_d2 = Dense(512, activation='relu')(hidden_d1)\n",
        "        values = Dense(1, activation='linear')(hidden_d2) #for critic model\n",
        "        probs = Dense(self.n_actions, activation='softmax')(hidden_d2) #output of a actor model, policy model\n",
        "\n",
        "        def actor_loss(y_t, y_p):\n",
        "            return K.sum(- y_t * K.log(K.clip(y_p, 1E-8, 1-1E-8)) * TD_error)\n",
        "\n",
        "        # Defining an Actor model\n",
        "        actor_model = Model([input, TD_error], [probs])\n",
        "        actor_optimizer = Adam(lr=self.alpha)\n",
        "        actor_model.compile(optimizer=actor_optimizer, loss=actor_loss)\n",
        "\n",
        "        # Defining a critic model\n",
        "        critic_model = Model([input], [values])\n",
        "        critic_optimizer = Adam(lr=self.beta)        \n",
        "        critic_model.compile(optimizer= critic_optimizer, loss='mse')\n",
        "\n",
        "        # Defining an additional policy network\n",
        "        policy_model = Model([input], [probs])\n",
        "\n",
        "        return actor_model, critic_model, policy_model\n",
        "\n",
        "    def pick_action(self, state, evaluation = False):\n",
        "        state = np.expand_dims(state, axis=0)\n",
        "        probabilities = self.policy_model.predict(state)[0]\n",
        "        if evaluation == False:\n",
        "            action = np.random.choice(self.action_space, p=probabilities)\n",
        "        else:\n",
        "            action = np.argmax(probabilities)\n",
        "        return action\n",
        "\n",
        "    def train(self, state, action, reward, next_state, done):\n",
        "        # use expand dims to add a dimension to a numpy array\n",
        "        state = np.expand_dims(state, axis=0)\n",
        "        next_state = np.expand_dims(next_state, axis=0)\n",
        "\n",
        "        # get the target values\n",
        "        next_critic_value = self.critic_model.predict(next_state)\n",
        "        critic_value = self.critic_model.predict(state)\n",
        "\n",
        "        # Getting TD error values to feed into the actor model\n",
        "        target = reward + self.gamma*next_critic_value*(1-int(done))\n",
        "        TD_error =  target - critic_value\n",
        "\n",
        "        actions = np.zeros((1, self.n_actions))\n",
        "        actions[[0], action] = 1\n",
        "\n",
        "        #fitting actor and critic models\n",
        "        self.actor_model.fit([state, TD_error], actions, verbose=0)\n",
        "        self.critic_model.fit(state, target, verbose=0)"
      ]
    },
    {
      "cell_type": "code",
      "execution_count": null,
      "metadata": {
        "colab": {
          "background_save": true,
          "base_uri": "https://localhost:8080/"
        },
        "id": "paFtfUWwDIpJ",
        "outputId": "a25045be-9411-4256-e867-c3ebcf7644ca"
      },
      "outputs": [
        {
          "name": "stdout",
          "output_type": "stream",
          "text": [
            "Episode: 1, Average rewards: 0\n",
            "Episode: 300, Average rewards: -147.0224669967707\n",
            "Episode: 600, Average rewards: -8.82519287219878\n",
            "Episode: 900, Average rewards: 109.5335588857217\n",
            "Episode: 1200, Average rewards: 138.4921233030568\n"
          ]
        },
        {
          "data": {
            "text/plain": [
              "Text(0.5, 1.0, 'Evaluation: Rewards per episode')"
            ]
          },
          "execution_count": null,
          "metadata": {},
          "output_type": "execute_result"
        },
        {
          "data": {
            "image/png": "[encoded data removed]",
            "text/plain": [
              "<Figure size 720x288 with 2 Axes>"
            ]
          },
          "metadata": {},
          "output_type": "display_data"
        }
      ],
      "source": [
        "#TD actor-critic on LunarLander-v2\n",
        "agent = AC_Lunarlander_Agent(alpha=0.00001, beta=0.00005)\n",
        "env = gym.make('LunarLander-v2')\n",
        "\n",
        "\n",
        "#episodes\n",
        "total_episodes = 3000\n",
        "eval_episodes = total_episodes - 10\n",
        "\n",
        "#lists to store rewards\n",
        "reward_values = []\n",
        "rewards = []\n",
        "eva_rewards = []\n",
        "avg_rewards = 0\n",
        "\n",
        "\n",
        "for episode in range(1, total_episodes+1):\n",
        "    \n",
        "    done = False\n",
        "    total_rewards = 0\n",
        "    state = env.reset()\n",
        "    \n",
        "    while not done:\n",
        "        \n",
        "        if episode >= eval_episodes:\n",
        "            action = agent.pick_action(state, evaluation = True)\n",
        "        else:\n",
        "            action = agent.pick_action(state)\n",
        "   \n",
        "        next_state, reward, done, info = env.step(action)\n",
        "\n",
        "        #training\n",
        "        agent.train(state, action, reward, next_state, done)\n",
        "        state = next_state\n",
        "        total_rewards += reward\n",
        "\n",
        "    #Each episode\n",
        "    rewards.append(total_rewards)\n",
        "    \n",
        "    if episode >= 10:\n",
        "      avg_rewards = np.sum(rewards[episode-10:]) / 10\n",
        "    \n",
        "    reward_values.append(avg_rewards)\n",
        "\n",
        "    if episode % (total_episodes // 10) == 0 or episode == 1:\n",
        "      print(\"Episode: {}, Average rewards: {}\".format(episode, avg_rewards))\n",
        "    \n",
        "    #Evaluation\n",
        "    if episode > eval_episodes:\n",
        "      eva_rewards.append(total_rewards)\n",
        "\n",
        "    #solving condition and evaluation results\n",
        "    if avg_rewards >= 200: #added\n",
        "\n",
        "      for e in range(10):\n",
        "        done = False\n",
        "        total_rewards = 0\n",
        "        state = env.reset()\n",
        "        while not done:\n",
        "          action = agent.pick_action(state, evaluation = True)\n",
        "          next_state, reward, done, info = env.step(action)\n",
        "\n",
        "          #training\n",
        "          agent.train(state, action, reward, next_state, done)\n",
        "          state = next_state\n",
        "          total_rewards += reward\n",
        "        #Each episode\n",
        "        eva_rewards.append(total_rewards)\n",
        "      break\n",
        "        \n",
        "\n",
        "#plots\n",
        "fig, (ax1, ax2) = plt.subplots(1, 2, figsize=(10,4))\n",
        "x = [e for e in range(episode)]\n",
        "x_eva = [episode for episode in range(10)]\n",
        "yr = reward_values\n",
        "ye = eva_rewards\n",
        "  \n",
        "ax1.plot(x,yr)\n",
        "ax1.set_title(\"Training: Rewards per episode\")\n",
        "\n",
        "ax2.plot(x_eva,ye)\n",
        "ax2.set_title(\"Evaluation: Rewards per episode\")"
      ]
    },
    {
      "cell_type": "markdown",
      "metadata": {
        "id": "AOFQOyR28yYy"
      },
      "source": [
        "##2. CartPole-v1"
      ]
    },
    {
      "cell_type": "code",
      "execution_count": null,
      "metadata": {
        "id": "OMDPnxgRaoeA"
      },
      "outputs": [],
      "source": [
        "#Agent declaration\n",
        "class AC_Cartpole_Agent():\n",
        "    def __init__(self, alpha, beta, gamma=0.99, n_actions=2):\n",
        "        self.alpha = alpha\n",
        "        self.beta = beta\n",
        "        self.gamma = gamma\n",
        "        self.n_actions = n_actions\n",
        "\n",
        "        self.actor_model, self.critic_model, self.policy_model = self.actor_critic_model()\n",
        "        self.action_space = [i for i in range(n_actions)]\n",
        "\n",
        "    def actor_critic_model(self):\n",
        "        input = Input(shape=(4,))\n",
        "        TD_error = Input(shape=[1])\n",
        "        hidden_d1 = Dense(1024, activation='relu')(input)\n",
        "        hidden_d2 = Dense(512, activation='relu')(hidden_d1)\n",
        "        values = Dense(1, activation='linear')(hidden_d2) #for critic model\n",
        "        probs = Dense(self.n_actions, activation='softmax')(hidden_d2) #output of a actor model, policy model\n",
        "\n",
        "        def actor_loss(y_t, y_p):\n",
        "            return K.sum(- y_t * K.log(K.clip(y_p, 1E-8, 1-1E-8)) * TD_error)\n",
        "\n",
        "        # Defining an Actor model\n",
        "        actor_model = Model([input, TD_error], [probs])\n",
        "        actor_optimizer = Adam(lr=self.alpha)\n",
        "        actor_model.compile(optimizer=actor_optimizer, loss=actor_loss)\n",
        "\n",
        "        # Defining a critic model\n",
        "        critic_model = Model([input], [values])\n",
        "        critic_optimizer = Adam(lr=self.beta)        \n",
        "        critic_model.compile(optimizer= critic_optimizer, loss='mse')\n",
        "\n",
        "        # Defining an additional policy network\n",
        "        policy_model = Model([input], [probs])\n",
        "\n",
        "        return actor_model, critic_model, policy_model\n",
        "\n",
        "    def pick_action(self, state, evaluation = False):\n",
        "        state = np.expand_dims(state, axis=0)\n",
        "        probabilities = self.policy_model.predict(state)[0]\n",
        "        if evaluation == False:\n",
        "            action = np.random.choice(self.action_space, p=probabilities)\n",
        "        else:\n",
        "            action = np.argmax(probabilities)\n",
        "        return action\n",
        "\n",
        "    def train(self, state, action, reward, next_state, done):\n",
        "        # use expand dims to add a dimension to a numpy arra\n",
        "        state = np.expand_dims(state, axis=0)\n",
        "        next_state = np.expand_dims(next_state, axis=0)\n",
        "\n",
        "        # get the target values\n",
        "        next_critic_value = self.critic_model.predict(next_state)\n",
        "        critic_value = self.critic_model.predict(state)\n",
        "\n",
        "        # Getting TD error values to feed into the actor model\n",
        "        target = reward + self.gamma*next_critic_value*(1-int(done))\n",
        "        TD_error =  target - critic_value\n",
        "\n",
        "        actions = np.zeros((1, self.n_actions))\n",
        "        actions[[0], action] = 1\n",
        "\n",
        "        #fitting actor and critic models\n",
        "        self.actor_model.fit([state, TD_error], actions, verbose=0)\n",
        "        self.critic_model.fit(state, target, verbose=0)"
      ]
    },
    {
      "cell_type": "code",
      "execution_count": null,
      "metadata": {
        "id": "WXfhapG5K4VP",
        "outputId": "508a2813-bd84-4988-be32-ee92ce11e2fe"
      },
      "outputs": [
        {
          "name": "stdout",
          "output_type": "stream",
          "text": [
            "WARNING:tensorflow:From /projects/academic/courses/cse546s22/nkarnati/anaconda3/lib/python3.7/site-packages/tensorflow_core/python/ops/resource_variable_ops.py:1635: calling BaseResourceVariable.__init__ (from tensorflow.python.ops.resource_variable_ops) with constraint is deprecated and will be removed in a future version.\n",
            "Instructions for updating:\n",
            "If using Keras pass *_constraint arguments to layers.\n",
            "Episode: 1, Average rewards: 0\n",
            "Episode: 50, Average rewards: 56.7\n",
            "Episode: 100, Average rewards: 73.0\n",
            "Episode: 150, Average rewards: 76.8\n",
            "Episode: 200, Average rewards: 147.7\n",
            "Episode: 250, Average rewards: 500.0\n",
            "Episode: 300, Average rewards: 500.0\n",
            "Episode: 350, Average rewards: 390.8\n",
            "Episode: 400, Average rewards: 484.1\n",
            "Episode: 450, Average rewards: 500.0\n",
            "Episode: 500, Average rewards: 500.0\n"
          ]
        },
        {
          "data": {
            "text/plain": [
              "Text(0.5, 1.0, 'Evaluation: Rewards per episode')"
            ]
          },
          "execution_count": 5,
          "metadata": {},
          "output_type": "execute_result"
        },
        {
          "data": {
            "image/png": "[encoded data removed]",
            "text/plain": [
              "<Figure size 720x288 with 2 Axes>"
            ]
          },
          "metadata": {},
          "output_type": "display_data"
        }
      ],
      "source": [
        "from tensorflow.python.framework.ops import disable_eager_execution\n",
        "disable_eager_execution()\n",
        "#TD actor-critic on CartPole-v1\n",
        "agent = AC_Cartpole_Agent(alpha=0.00001, beta=0.00005)\n",
        "env = gym.make('CartPole-v1')\n",
        "\n",
        "states_size = env.observation_space.shape[0]\n",
        "\n",
        "#episodes\n",
        "total_episodes = 500\n",
        "eval_episodes = total_episodes - 10\n",
        "\n",
        "#lists to store rewards\n",
        "reward_values = []\n",
        "rewards = []\n",
        "eva_rewards = []\n",
        "avg_rewards = 0\n",
        "\n",
        "\n",
        "for episode in range(1, total_episodes+1):\n",
        "    \n",
        "    done = False\n",
        "    total_rewards = 0\n",
        "    timesteps = 0\n",
        "    state = env.reset()\n",
        "    obs = np.reshape(state, [1, states_size])\n",
        "    \n",
        "    while not done:\n",
        "        \n",
        "        if episode >= eval_episodes:\n",
        "            action = agent.pick_action(state, evaluation = True)\n",
        "        else:\n",
        "            action = agent.pick_action(state)\n",
        "   \n",
        "        next_state, reward_val, done, info = env.step(action)\n",
        "        \n",
        "        next_obs = np.reshape(next_state, [1, states_size])\n",
        "\n",
        "        #custom reward to converge faster\n",
        "        reward = -100*(abs(next_obs[0,2]) - abs(obs[0,2]))\n",
        "        obs = next_obs\n",
        "\n",
        "        #training\n",
        "        agent.train(state, action, reward, next_state, done)\n",
        "        state = next_state\n",
        "        total_rewards += reward_val\n",
        "        timesteps += 1\n",
        "\n",
        "    #Each episode\n",
        "    rewards.append(total_rewards)\n",
        "    \n",
        "    if episode >= 10:\n",
        "      avg_rewards = np.sum(rewards[episode-10:]) / 10\n",
        "    \n",
        "    reward_values.append(avg_rewards)\n",
        "\n",
        "    if episode % (total_episodes // 10) == 0 or episode == 1:\n",
        "      print(\"Episode: {}, Average rewards: {}\".format(episode, avg_rewards))\n",
        "    \n",
        "    #Evaluation\n",
        "    if episode > eval_episodes:\n",
        "      eva_rewards.append(total_rewards)\n",
        "        \n",
        "\n",
        "#plots\n",
        "fig, (ax1, ax2) = plt.subplots(1, 2, figsize=(10,4))\n",
        "x = [episode for episode in range(total_episodes)]\n",
        "x_eva = [episode for episode in range(10)]\n",
        "yr = reward_values\n",
        "ye = eva_rewards\n",
        "  \n",
        "ax1.plot(x,yr)\n",
        "ax1.set_title(\"Training: Rewards per episode\")\n",
        "\n",
        "ax2.plot(x_eva,ye)\n",
        "ax2.set_title(\"Evaluation: Rewards per episode\")"
      ]
    }
  ],
  "metadata": {
    "accelerator": "GPU",
    "colab": {
      "collapsed_sections": [
        "HOf2cviPahgc",
        "yT6arcKBx0uq",
        "MA2rdM9VZx4Z",
        "oeAWD1PXbcAW",
        "HXaHLm3L4-t4",
        "elOKkQK9bNdV",
        "AOFQOyR28yYy"
      ],
      "name": "Actor_Critic_Complex_Envs.ipynb",
      "provenance": []
    },
    "kernelspec": {
      "display_name": "Python 3",
      "name": "python3"
    },
    "language_info": {
      "name": "python"
    }
  },
  "nbformat": 4,
  "nbformat_minor": 0
}